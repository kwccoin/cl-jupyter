{
 "cells": [
  {
   "cell_type": "markdown",
   "metadata": {},
   "source": [
    "# cl-Jupyter: an enhanced interactive Shell for Common Lisp"
   ]
  },
  {
   "cell_type": "markdown",
   "metadata": {},
   "source": [
    "> (C) 2015 Frederic Peschanski -- CC-BY-SA 3.0"
   ]
  },
  {
   "cell_type": "markdown",
   "metadata": {},
   "source": [
    "This document is a short presentation of *cl-Jupyter* which is, technically-speaking, a Common Lisp implementation of a [Jupyter](http://www.jupyter.org) kernel. So what does this means in practice ?  Let's see."
   ]
  },
  {
   "cell_type": "markdown",
   "metadata": {},
   "source": [
    "## A (somewhat poor man's) distributed Lisp REPL"
   ]
  },
  {
   "cell_type": "markdown",
   "metadata": {},
   "source": [
    "Basically IPython is a better shell (understand REPL) for the Python programming language. So what the h.ck is the relationship with Lisp ? Well, the IPython architecture allows distributed (unsecure !) interactions between :\n",
    "\n",
    " - clients -- called *frontends* -- that manage the user-part of the interactions : reading expressions, printing results and such, and\n",
    " \n",
    "  - servers -- called *kernels* -- that actually perform the computations.\n",
    "  \n",
    "So in an Jupyter REPL, the frontends play the R and P parts, while the kernels play the E part.\n",
    "\n",
    "cl-Jupyter is thus the Eval part while the existing IPython frontends can be used for Reading and Printing.\n",
    "\n",
    "Basic interactions would look like the following :"
   ]
  },
  {
   "cell_type": "code",
   "execution_count": null,
   "metadata": {},
   "outputs": [],
   "source": [
    "(+ 2 12)"
   ]
  },
  {
   "cell_type": "markdown",
   "metadata": {},
   "source": [
    "Things happen like these :\n",
    "\n",
    "  - first, the frontend reads the Lisp expression `(+ 2 12)`\n",
    "  \n",
    "  - this expression is sent, through the network (ZMQ sockets to be precise), to the cl-Jupyter kernel, which performs the corresponding computation (thanks to the `eval` function of course).\n",
    "  \n",
    "  - the resuling value `14` is then sent back to the frontend for printing, and that's it.\n",
    "  \n",
    "In case the expression yields side effects, such as writing a file, these are actually performed by cl-Jupyter so one should take care servicing kernels only on private networks ! The standard output and error streams are captured and thus visible from the frontend side."
   ]
  },
  {
   "cell_type": "code",
   "execution_count": null,
   "metadata": {},
   "outputs": [],
   "source": [
    "(format t \"I compute (+ 2 12), yielding ~A\" (+ 3 12))"
   ]
  },
  {
   "cell_type": "markdown",
   "metadata": {},
   "source": [
    "The second expression, namely `In [2]`, yields the `NIL` value, namely `Out [2]`, but the formatted string written on the `*standard-output*` stream is also printed.\n",
    "\n",
    "Errors are also printed,as the following (counter-)example shows :"
   ]
  },
  {
   "cell_type": "code",
   "execution_count": null,
   "metadata": {},
   "outputs": [],
   "source": [
    "(/ 2 0)"
   ]
  },
  {
   "cell_type": "markdown",
   "metadata": {},
   "source": [
    "We remark that, at least in the current version, cl-Jupyter does *not* support interactions with the Lisp debugger.\n",
    "\n",
    "This is a good moment to stay something important :\n",
    "\n",
    "> cl-Jupyter is **not** intended as a replacement for SlimE or SlimV.\n",
    "\n",
    "Indeed, this would imply replacing Emacs of Vim for starting with ...\n",
    "\n",
    "At the very best, cl-Jupyter (together with the IPython frontend) could be seen as a replacement for the basic REPL of most Common Lisp implementations (as for now without the debugger).  An interface with Swank (the \"kernel\" part of SlimE/V) would be a strong improvement here, but that is only for now a wish (contributors welcome !).\n",
    "\n",
    "Some features might already prove useful. First and foremost, the distributed architecture of Jupyter allows to connect multiple frontends to multiple kernels, as well as exchanging Data. Since kernels exist for a growing number of programming languages (Python, Ruby, Julia, Ocaml, Haskell, etc.), this opens many possibilities such as writing interactive distributed applications developped in a multi-languages environment (which appeals much more to me than the *everything-in-javascript* trend of the moment).\n",
    "\n",
    "But a question remains: is *cl-Jupyter* bringing something to the Lisp table ?  Obviously, a not-really-better REPL does not.  The main reason why *cl-Jupyter* was written in the first place is for supporting Jupyter *notebooks*. "
   ]
  },
  {
   "cell_type": "markdown",
   "metadata": {},
   "source": [
    "## A Lisp environment for interactive documents"
   ]
  },
  {
   "cell_type": "markdown",
   "metadata": {},
   "source": [
    "So what is a notebook ? Well, that's easy, this is what you are reading now !\n",
    "\n",
    "It is a document mixing :\n",
    "\n",
    "  - *Markdown*-formatted **text**  (optionally including *Latex/Mathjax* formulas)\n",
    "  \n",
    "  - **Computations** described in various language, Common Lisp as far as cl-Jupyter is concerned.\n",
    "  \n",
    "For example, *Leonardo* may write a fantastically clever algorithm for an important computation :"
   ]
  },
  {
   "cell_type": "code",
   "execution_count": null,
   "metadata": {},
   "outputs": [],
   "source": [
    "(defun fibonacci (n)\n",
    "    (if (<= n 1)\n",
    "        1\n",
    "        (+ (fibonacci (- n 2)) (fibonacci (- n 1)))))"
   ]
  },
  {
   "cell_type": "markdown",
   "metadata": {},
   "source": [
    "And then, Leonardo can answer one of its most desired question :"
   ]
  },
  {
   "cell_type": "code",
   "execution_count": null,
   "metadata": {},
   "outputs": [],
   "source": [
    "(fibonacci 10)"
   ]
  },
  {
   "cell_type": "code",
   "execution_count": null,
   "metadata": {},
   "outputs": [],
   "source": [
    "(loop for k below 10 collect (fibonacci k))"
   ]
  },
  {
   "cell_type": "markdown",
   "metadata": {},
   "source": [
    "and then, comment about such computations, such that making conjectures or wonderings...\n",
    "\n",
    "What about $\\lim_{k \\rightarrow +\\infty} \\frac{F_{k+1}}{F_k}$  with $F_k$ the $k$-th term of the Fibonacci serie ?\n",
    "\n",
    "Well, let's check this ..."
   ]
  },
  {
   "cell_type": "code",
   "execution_count": null,
   "metadata": {},
   "outputs": [],
   "source": [
    "(loop for k from 2 below 20 collect (/ (fibonacci (1+ k)) (fibonacci k)))"
   ]
  },
  {
   "cell_type": "markdown",
   "metadata": {},
   "source": [
    "*Oops* ... don't want the exact rational values but approximations ..."
   ]
  },
  {
   "cell_type": "code",
   "execution_count": null,
   "metadata": {},
   "outputs": [],
   "source": [
    "(loop \n",
    " for k from 2 below 20 \n",
    " collect (float (/ (fibonacci (1+ k)) (fibonacci k))))"
   ]
  },
  {
   "cell_type": "markdown",
   "metadata": {},
   "source": [
    "What is this value $1.618034$ ?  ... seems not far from ... $\\frac{1+\\sqrt{5}}{2}$"
   ]
  },
  {
   "cell_type": "code",
   "execution_count": null,
   "metadata": {},
   "outputs": [],
   "source": [
    "(/ (+ 1 (sqrt 5))\n",
    "   2)"
   ]
  },
  {
   "cell_type": "markdown",
   "metadata": {},
   "source": [
    "Don't you think this number looks shiny ?"
   ]
  },
  {
   "cell_type": "markdown",
   "metadata": {},
   "source": [
    "This (probably unsuccessful) half-joke at least summarizes the way I am using notebooks in my own teaching and research work.\n",
    "\n",
    "At the technical level, the notebook server is simply a frontend developped as a complete web application that can connect to any kernel, among which of course cl-Jupyter."
   ]
  },
  {
   "cell_type": "markdown",
   "metadata": {},
   "source": [
    "## History management"
   ]
  },
  {
   "cell_type": "markdown",
   "metadata": {},
   "source": [
    "cl-jupyter is like a *big brother*: it sees and remembers everything you do.\n",
    "\n",
    "The standard *stars* `*` (last value), `**` (second to last), `***`  (well ... you got it) are supported."
   ]
  },
  {
   "cell_type": "code",
   "execution_count": null,
   "metadata": {},
   "outputs": [],
   "source": [
    "(* 2 24)"
   ]
  },
  {
   "cell_type": "code",
   "execution_count": null,
   "metadata": {},
   "outputs": [],
   "source": [
    "*"
   ]
  },
  {
   "cell_type": "code",
   "execution_count": null,
   "metadata": {},
   "outputs": [],
   "source": [
    "(+ * 1)"
   ]
  },
  {
   "cell_type": "code",
   "execution_count": null,
   "metadata": {},
   "outputs": [],
   "source": [
    "**"
   ]
  },
  {
   "cell_type": "code",
   "execution_count": null,
   "metadata": {},
   "outputs": [],
   "source": [
    "***"
   ]
  },
  {
   "cell_type": "markdown",
   "metadata": {},
   "source": [
    "There are more general (and more interesting) forms for recalling the history:\n",
    "\n",
    "    (%in <n>)   ; recalls the In[<n>] input string\n",
    "    \n",
    "    (%out <n>)  ; evaluates to the Out[<n>] value\n",
    "    \n",
    "    (%out <n> <m>)  ;  evaluates to the `m`-th Out[<n>] value"
   ]
  },
  {
   "cell_type": "code",
   "execution_count": null,
   "metadata": {},
   "outputs": [],
   "source": [
    "(%in 10)"
   ]
  },
  {
   "cell_type": "code",
   "execution_count": null,
   "metadata": {},
   "outputs": [],
   "source": [
    "(%out 12)"
   ]
  },
  {
   "cell_type": "code",
   "execution_count": null,
   "metadata": {},
   "outputs": [],
   "source": [
    "(* (%out 9) (%out 14))) ;; 1.618034 * 48"
   ]
  },
  {
   "cell_type": "code",
   "execution_count": null,
   "metadata": {},
   "outputs": [],
   "source": [
    "(values 1 2 3 4)"
   ]
  },
  {
   "cell_type": "code",
   "execution_count": null,
   "metadata": {},
   "outputs": [],
   "source": [
    "(%out 18 1)"
   ]
  },
  {
   "cell_type": "code",
   "execution_count": null,
   "metadata": {},
   "outputs": [],
   "source": [
    "(%out 18 2)"
   ]
  },
  {
   "cell_type": "code",
   "execution_count": null,
   "metadata": {},
   "outputs": [],
   "source": [
    "(%out 18 4)"
   ]
  },
  {
   "cell_type": "markdown",
   "metadata": {},
   "source": [
    "Well, so you don't have to worry about your history... Except that it is not saved in the notebook of course!"
   ]
  },
  {
   "cell_type": "markdown",
   "metadata": {},
   "source": [
    "## Multi-format document processing"
   ]
  },
  {
   "cell_type": "markdown",
   "metadata": {},
   "source": [
    "The internal representation of a notebook is a JSON document with a very simple structure. Hence, it is very easy to convert the notebook file to various representations.  This can be done at the JSON level but there are higher-level tools to ease such conversion."
   ]
  },
  {
   "cell_type": "markdown",
   "metadata": {},
   "source": [
    "### PDF document"
   ]
  },
  {
   "cell_type": "markdown",
   "metadata": {},
   "source": [
    "To generate a PDF document, the default is to simply use Jupyter's `nbconvert` tool :\n",
    "\n",
    "```\n",
    "jupyter nbconvert <myfile>.ipynb --to latex --post pdf\n",
    "```\n",
    "\n",
    "This will generate a file `<myfile>.pdf` that is in general quite readable. The process is to generate first a `pandoc` markdown document from the JSon representation, and then relying `pandoc` to generate a Latex document that is finally processed by a `latex` tool (by default `pdflatex`) to generate the final document. A lot of machinery but this works remarkably well !  You can see for yourself with the `about-cl-jupyter.pdf` document generated from the present notebook."
   ]
  },
  {
   "cell_type": "markdown",
   "metadata": {},
   "source": [
    "## Rich display"
   ]
  },
  {
   "cell_type": "markdown",
   "metadata": {},
   "source": [
    "The notebook provide rich display for textual and graphical data. The package `cl-jupyter-user` provides a few functions for producing displayable data in Lisp.\n",
    "\n",
    "By default, the Lisp backend works in the `cl-jupyter-user` package, which we can check right away:"
   ]
  },
  {
   "cell_type": "code",
   "execution_count": null,
   "metadata": {},
   "outputs": [],
   "source": [
    "*package*"
   ]
  },
  {
   "cell_type": "markdown",
   "metadata": {},
   "source": [
    "### Customized plain text"
   ]
  },
  {
   "cell_type": "markdown",
   "metadata": {},
   "source": [
    "By default, the data produced by the Lisp kernel is formatted as in `(format t \"~S\" <data>)`, i.e. roughly the same way the Lisp REPL works. The produced Lisp string is then encoded as a JSON string and sent back to the frontend(s).\n",
    "\n",
    "Let's see what happens with a string."
   ]
  },
  {
   "cell_type": "code",
   "execution_count": null,
   "metadata": {},
   "outputs": [],
   "source": [
    "\"this is a string with a\n",
    "new line\""
   ]
  },
  {
   "cell_type": "markdown",
   "metadata": {},
   "source": [
    "Suppose now we would like to define a particular kind of string where new lines are replaced (in the shown output) by JSon new lines, i.e. the string `\"\\n\"`.\n",
    "\n",
    "The simplest way to do so is to create a CLOS class to encoded our special strings."
   ]
  },
  {
   "cell_type": "code",
   "execution_count": null,
   "metadata": {},
   "outputs": [],
   "source": [
    "(defclass custom-string ()\n",
    "    ((content :initarg :content :reader cstr-content)))"
   ]
  },
  {
   "cell_type": "code",
   "execution_count": null,
   "metadata": {},
   "outputs": [],
   "source": [
    "(defun custom-string (str)\n",
    "    (make-instance 'custom-string :content str))"
   ]
  },
  {
   "cell_type": "markdown",
   "metadata": {},
   "source": [
    "Now, we have to specialize a generic method `render-plain` to produce our customized strings."
   ]
  },
  {
   "cell_type": "code",
   "execution_count": null,
   "metadata": {},
   "outputs": [],
   "source": [
    "(defmethod render-plain ((str-obj custom-string))\n",
    "    (let ((ncontent (make-array (length (cstr-content str-obj)) \n",
    "                                :element-type 'character :fill-pointer 0 :adjustable t)))\n",
    "        (loop for char across (cstr-content str-obj)\n",
    "              for index from 0\n",
    "              do (cond ((char= char #\\Newline)\n",
    "                        (vector-push-extend #\\\\ ncontent)\n",
    "                        (vector-push-extend #\\n ncontent))\n",
    "                       (t (vector-push-extend char ncontent))))\n",
    "         (format nil \"\\\"~A\\\"\" ncontent)))"
   ]
  },
  {
   "cell_type": "markdown",
   "metadata": {},
   "source": [
    "Let's try our customized strings ..."
   ]
  },
  {
   "cell_type": "code",
   "execution_count": null,
   "metadata": {},
   "outputs": [],
   "source": [
    "(custom-string \"this is a customized string with a\n",
    " new line\")"
   ]
  },
  {
   "cell_type": "markdown",
   "metadata": {},
   "source": [
    "### Programmatically-generated Latex"
   ]
  },
  {
   "cell_type": "markdown",
   "metadata": {},
   "source": [
    "A nice feature of the notebook is that one may use Latex to describe mathematical formulas. This can be done in the markdown cells, by directly writing the formulas. \n",
    "\n",
    "For example: `$\\frac{17}{48}$` will give: $\\frac{17}{48}$"
   ]
  },
  {
   "cell_type": "markdown",
   "metadata": {},
   "source": [
    "It is also possible to generate latex on the kernel side using Lisp code. The `latex` function simplifies the process :"
   ]
  },
  {
   "cell_type": "code",
   "execution_count": null,
   "metadata": {},
   "outputs": [],
   "source": [
    "(latex \"$\\\\frac{17}{48}$\")"
   ]
  },
  {
   "cell_type": "markdown",
   "metadata": {},
   "source": [
    "Note that the backslash must be escaped in the Lisp string. Thanks to this `latex` function, we can generate latex content programmatically, as in the following example :"
   ]
  },
  {
   "cell_type": "code",
   "execution_count": null,
   "metadata": {},
   "outputs": [],
   "source": [
    "(defun show-fraction (num den)\n",
    "    (latex (format nil \"$\\\\frac{~A}{~A}$\" num den)))"
   ]
  },
  {
   "cell_type": "code",
   "execution_count": null,
   "metadata": {},
   "outputs": [],
   "source": [
    "(show-fraction 17 48)"
   ]
  },
  {
   "cell_type": "markdown",
   "metadata": {},
   "source": [
    "### Raw HTML content"
   ]
  },
  {
   "cell_type": "markdown",
   "metadata": {},
   "source": [
    "It is of course also possible to generate raw HTML content directly from Lisp. This is not recommanded however in the case the intent is to generate beautiful printouts of the notebook. But the HTML generation can be useful at times."
   ]
  },
  {
   "cell_type": "code",
   "execution_count": null,
   "metadata": {},
   "outputs": [],
   "source": [
    "(html \"<h3 style=\\\"color:red\\\">Important</h3>\n",
    "       <p style=\\\"color:blue\\\">cl-Jupyter is <strong style=\\\"color:green\\\">nice</strong>.</p>\")"
   ]
  },
  {
   "cell_type": "markdown",
   "metadata": {},
   "source": [
    "You can *of course* use your favorite HTML framework to generate your content. Here is an example."
   ]
  },
  {
   "cell_type": "code",
   "execution_count": null,
   "metadata": {},
   "outputs": [],
   "source": [
    "(ql:quickload \"cl-markup\")"
   ]
  },
  {
   "cell_type": "code",
   "execution_count": null,
   "metadata": {},
   "outputs": [],
   "source": [
    "(html (markup:markup\n",
    "       (:table :border 0 :cellpadding 4\n",
    "               (loop for i below 25 by 5\n",
    "                     collect (markup:markup \n",
    "                              (:tr :align \"right\"\n",
    "                                   (loop for j from i below (+ i 5)\n",
    "                                         collect (markup:markup\n",
    "                                                  (:td :bgcolor\n",
    "                                                       (if (oddp j) \"pink\" \"green\")\n",
    "                                                       (format nil \"~@R\" (1+ j)))))))))))"
   ]
  },
  {
   "cell_type": "markdown",
   "metadata": {},
   "source": [
    "Remark that the table is *not* visible in the generated PDF. For non-textual content it is actually preferable to use images."
   ]
  },
  {
   "cell_type": "markdown",
   "metadata": {},
   "source": [
    "### Vector images as SVG"
   ]
  },
  {
   "cell_type": "markdown",
   "metadata": {},
   "source": [
    "There are two types of computerized representation for images: bitmap and vectorial. Nowadays, the popular format for vector images is **SVG** (\\emph{Scalable Vector Graphics}). If a few years back the support for svg images was quiet imperfect, modern browsers and tools have somewhat settled on how svg images should render.\n",
    "\n",
    "Basically a SVG is a W3C recommendation and is thus an XML-based format. The advantage is that the format is *open* (as opposed to *proprietary*)  not tied to a specific tools. Hence anyone can create a SVG image using a simple text editor.  Of course, cl-Jupyter and then the notebook can interpret this textual description as an image.\n",
    "\n",
    "Let's try ..."
   ]
  },
  {
   "cell_type": "code",
   "execution_count": null,
   "metadata": {},
   "outputs": [],
   "source": [
    "(svg \"<svg height=\\\"400\\\" width=\\\"450\\\">\n",
    "<path id=\\\"lineAB\\\" d=\\\"M 100 350 l 150 -300\\\" stroke=\\\"red\\\" stroke-width=\\\"3\\\" fill=\\\"none\\\" />\n",
    "  <path id=\\\"lineBC\\\" d=\\\"M 250 50 l 150 300\\\" stroke=\\\"red\\\" stroke-width=\\\"3\\\" fill=\\\"none\\\" />\n",
    "  <path d=\\\"M 175 200 l 150 0\\\" stroke=\\\"green\\\" stroke-width=\\\"3\\\" fill=\\\"none\\\" />\n",
    "  <path d=\\\"M 100 350 q 150 -300 300 0\\\" stroke=\\\"blue\\\" stroke-width=\\\"5\\\" fill=\\\"none\\\" />\n",
    "  <!-- Mark relevant points -->\n",
    "  <g stroke=\\\"black\\\" stroke-width=\\\"3\\\" fill=\\\"black\\\">\n",
    "    <circle id=\\\"pointA\\\" cx=\\\"100\\\" cy=\\\"350\\\" r=\\\"3\\\" />\n",
    "    <circle id=\\\"pointB\\\" cx=\\\"250\\\" cy=\\\"50\\\" r=\\\"3\\\" />\n",
    "    <circle id=\\\"pointC\\\" cx=\\\"400\\\" cy=\\\"350\\\" r=\\\"3\\\" />\n",
    "  </g>\n",
    "  <!-- Label the points -->\n",
    "  <g font-size=\\\"30\\\" font=\\\"sans-serif\\\" fill=\\\"black\\\" stroke=\\\"none\\\" text-anchor=\\\"middle\\\">\n",
    "    <text x=\\\"100\\\" y=\\\"350\\\" dx=\\\"-30\\\">A</text>\n",
    "    <text x=\\\"250\\\" y=\\\"50\\\" dy=\\\"-10\\\">B</text>\n",
    "    <text x=\\\"400\\\" y=\\\"350\\\" dx=\\\"30\\\">C</text>\n",
    "  </g>\n",
    "</svg>\")"
   ]
  },
  {
   "cell_type": "markdown",
   "metadata": {},
   "source": [
    "Of course, it is quite cumbersome to write full pictures in a string encoding an xml document ! Pictures can be obtained more interesting in a programmatic manner, either building a string or relying on a third-party library.  This could be an XML library but there is also a nifty `cl-svg` library that we might use."
   ]
  },
  {
   "cell_type": "code",
   "execution_count": null,
   "metadata": {},
   "outputs": [],
   "source": [
    "(ql:quickload \"cl-svg\")"
   ]
  },
  {
   "cell_type": "code",
   "execution_count": null,
   "metadata": {},
   "outputs": [],
   "source": [
    "(defparameter *scene* \n",
    "    (let* ((scene (svg:make-svg-toplevel 'svg:svg-1.1-toplevel :height 200 :width 200))\n",
    "           (lg1 (svg:make-linear-gradient scene (:id :generate\n",
    "                                         :x1 \"0%\" :y1 \"0%\" :x2 \"100%\" :y2 \"100%\")\n",
    "                (svg:stop :color \"green\" :offset \"0%\")\n",
    "                (svg:stop :color \"blue\" :offset \"50%\")\n",
    "                (svg:stop :color \"red\" :offset \"100%\"))))\n",
    "     (svg:title scene \"SVG test: gradients\")\n",
    "     (svg:draw scene (:rect :x 10 :y 10 :height 200 :width 200)\n",
    "               :fill (svg:xlink-href lg1))\n",
    "        scene))"
   ]
  },
  {
   "cell_type": "code",
   "execution_count": null,
   "metadata": {},
   "outputs": [],
   "source": [
    "(svg (with-output-to-string (out)\n",
    "         (svg:stream-out out *scene*))))"
   ]
  },
  {
   "cell_type": "markdown",
   "metadata": {},
   "source": [
    "Finally, it is perhaps easier to load a SVG picture directly from a file."
   ]
  },
  {
   "cell_type": "code",
   "execution_count": null,
   "metadata": {},
   "outputs": [],
   "source": [
    "(svg-from-file \"profile/fishbowl-small.svg\")"
   ]
  },
  {
   "cell_type": "markdown",
   "metadata": {},
   "source": [
    "### Bitmap images"
   ]
  },
  {
   "cell_type": "markdown",
   "metadata": {},
   "source": [
    "#### PNG files"
   ]
  },
  {
   "cell_type": "code",
   "execution_count": null,
   "metadata": {},
   "outputs": [],
   "source": [
    "(png-from-file \"profile/Portrait_of_Jupiter_from_Cassini.png\")"
   ]
  },
  {
   "cell_type": "markdown",
   "metadata": {},
   "source": [
    "#### JPEG files"
   ]
  },
  {
   "cell_type": "code",
   "execution_count": null,
   "metadata": {},
   "outputs": [],
   "source": [
    "(png-from-file \"profile/Jupiter's_storm.jpg\")"
   ]
  },
  {
   "cell_type": "markdown",
   "metadata": {},
   "source": [
    "(courtesy of the Nasa)"
   ]
  },
  {
   "cell_type": "markdown",
   "metadata": {},
   "source": [
    "## To be continued ..."
   ]
  },
  {
   "cell_type": "code",
   "execution_count": null,
   "metadata": {},
   "outputs": [],
   "source": []
  },
  {
   "cell_type": "code",
   "execution_count": null,
   "metadata": {},
   "outputs": [],
   "source": []
  },
  {
   "cell_type": "code",
   "execution_count": null,
   "metadata": {},
   "outputs": [],
   "source": []
  }
 ],
 "metadata": {
  "kernelspec": {
   "display_name": "CCL64 Lisp",
   "language": "lisp",
   "name": "lisp"
  },
  "language_info": {
   "codemirror_mode": "text/x-common-lisp",
   "mimetype": "text/x-common-lisp",
   "name": "common-lisp",
   "pygments_lexer": "common-lisp",
   "version": "X3J13"
  }
 },
 "nbformat": 4,
 "nbformat_minor": 1
}
