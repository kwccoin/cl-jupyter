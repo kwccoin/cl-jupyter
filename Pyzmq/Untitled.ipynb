{
 "cells": [
  {
   "cell_type": "code",
   "execution_count": null,
   "id": "7b4b8b6c-719c-4f5b-b204-6eb39118f19b",
   "metadata": {},
   "outputs": [],
   "source": [
    "(+ 1 2)\n"
   ]
  },
  {
   "cell_type": "code",
   "execution_count": null,
   "id": "698de2b1-5609-4549-9094-a8bae9f07254",
   "metadata": {},
   "outputs": [],
   "source": []
  }
 ],
 "metadata": {
  "kernelspec": {
   "display_name": "Common Lisp",
   "language": "common-lisp",
   "name": "common-lisp"
  },
  "language_info": {
   "name": ""
  }
 },
 "nbformat": 4,
 "nbformat_minor": 5
}
